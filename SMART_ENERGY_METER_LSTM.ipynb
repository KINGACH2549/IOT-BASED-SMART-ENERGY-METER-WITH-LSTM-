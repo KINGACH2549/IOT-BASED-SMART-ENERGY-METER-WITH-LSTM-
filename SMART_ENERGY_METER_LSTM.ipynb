{
 "cells": [
  {
   "cell_type": "markdown",
   "id": "1ae9c8f2",
   "metadata": {},
   "source": [
    "# IMPORTING LIBRARIES"
   ]
  },
  {
   "cell_type": "code",
   "execution_count": 161,
   "id": "d6b62ae8",
   "metadata": {},
   "outputs": [],
   "source": [
    "import pandas as pd\n",
    "import numpy as np\n",
    "import matplotlib.pyplot as plt\n",
    "import seaborn as sns\n",
    "import sys\n",
    "import urllib as ul\n",
    "%matplotlib inline"
   ]
  },
  {
   "cell_type": "code",
   "execution_count": 42,
   "id": "fb53d9c3",
   "metadata": {},
   "outputs": [
    {
     "data": {
      "text/html": [
       "<div>\n",
       "<style scoped>\n",
       "    .dataframe tbody tr th:only-of-type {\n",
       "        vertical-align: middle;\n",
       "    }\n",
       "\n",
       "    .dataframe tbody tr th {\n",
       "        vertical-align: top;\n",
       "    }\n",
       "\n",
       "    .dataframe thead th {\n",
       "        text-align: right;\n",
       "    }\n",
       "</style>\n",
       "<table border=\"1\" class=\"dataframe\">\n",
       "  <thead>\n",
       "    <tr style=\"text-align: right;\">\n",
       "      <th></th>\n",
       "      <th>DATETIME</th>\n",
       "      <th>ENERGY</th>\n",
       "    </tr>\n",
       "  </thead>\n",
       "  <tbody>\n",
       "    <tr>\n",
       "      <th>0</th>\n",
       "      <td>2022-04-18T22:09:52+05:30</td>\n",
       "      <td>5126.00</td>\n",
       "    </tr>\n",
       "    <tr>\n",
       "      <th>1</th>\n",
       "      <td>2022-04-19T11:24:37+05:30</td>\n",
       "      <td>351.11</td>\n",
       "    </tr>\n",
       "    <tr>\n",
       "      <th>2</th>\n",
       "      <td>2022-04-19T11:25:22+05:30</td>\n",
       "      <td>346.79</td>\n",
       "    </tr>\n",
       "    <tr>\n",
       "      <th>3</th>\n",
       "      <td>2022-04-19T11:25:38+05:30</td>\n",
       "      <td>345.03</td>\n",
       "    </tr>\n",
       "    <tr>\n",
       "      <th>4</th>\n",
       "      <td>2022-04-19T11:25:58+05:30</td>\n",
       "      <td>348.51</td>\n",
       "    </tr>\n",
       "  </tbody>\n",
       "</table>\n",
       "</div>"
      ],
      "text/plain": [
       "                    DATETIME   ENERGY\n",
       "0  2022-04-18T22:09:52+05:30  5126.00\n",
       "1  2022-04-19T11:24:37+05:30   351.11\n",
       "2  2022-04-19T11:25:22+05:30   346.79\n",
       "3  2022-04-19T11:25:38+05:30   345.03\n",
       "4  2022-04-19T11:25:58+05:30   348.51"
      ]
     },
     "execution_count": 42,
     "metadata": {},
     "output_type": "execute_result"
    }
   ],
   "source": [
    "df=pd.read_csv(\"Thinspeak_data.csv\")\n",
    "df.drop(['Unnamed: 2'], axis=1, inplace=True)\n",
    "df.head(5)"
   ]
  },
  {
   "cell_type": "code",
   "execution_count": 43,
   "id": "2f63ecfa",
   "metadata": {},
   "outputs": [
    {
     "name": "stdout",
     "output_type": "stream",
     "text": [
      "<class 'pandas.core.frame.DataFrame'>\n",
      "RangeIndex: 138 entries, 0 to 137\n",
      "Data columns (total 2 columns):\n",
      " #   Column    Non-Null Count  Dtype  \n",
      "---  ------    --------------  -----  \n",
      " 0   DATETIME  138 non-null    object \n",
      " 1   ENERGY    138 non-null    float64\n",
      "dtypes: float64(1), object(1)\n",
      "memory usage: 2.3+ KB\n"
     ]
    }
   ],
   "source": [
    "df.info()"
   ]
  },
  {
   "cell_type": "code",
   "execution_count": 44,
   "id": "76470ee4",
   "metadata": {},
   "outputs": [
    {
     "data": {
      "text/html": [
       "<div>\n",
       "<style scoped>\n",
       "    .dataframe tbody tr th:only-of-type {\n",
       "        vertical-align: middle;\n",
       "    }\n",
       "\n",
       "    .dataframe tbody tr th {\n",
       "        vertical-align: top;\n",
       "    }\n",
       "\n",
       "    .dataframe thead th {\n",
       "        text-align: right;\n",
       "    }\n",
       "</style>\n",
       "<table border=\"1\" class=\"dataframe\">\n",
       "  <thead>\n",
       "    <tr style=\"text-align: right;\">\n",
       "      <th></th>\n",
       "      <th>ENERGY</th>\n",
       "    </tr>\n",
       "  </thead>\n",
       "  <tbody>\n",
       "    <tr>\n",
       "      <th>count</th>\n",
       "      <td>138.000000</td>\n",
       "    </tr>\n",
       "    <tr>\n",
       "      <th>mean</th>\n",
       "      <td>219.090435</td>\n",
       "    </tr>\n",
       "    <tr>\n",
       "      <th>std</th>\n",
       "      <td>483.064973</td>\n",
       "    </tr>\n",
       "    <tr>\n",
       "      <th>min</th>\n",
       "      <td>0.000000</td>\n",
       "    </tr>\n",
       "    <tr>\n",
       "      <th>25%</th>\n",
       "      <td>37.475000</td>\n",
       "    </tr>\n",
       "    <tr>\n",
       "      <th>50%</th>\n",
       "      <td>146.435000</td>\n",
       "    </tr>\n",
       "    <tr>\n",
       "      <th>75%</th>\n",
       "      <td>346.252500</td>\n",
       "    </tr>\n",
       "    <tr>\n",
       "      <th>max</th>\n",
       "      <td>5126.000000</td>\n",
       "    </tr>\n",
       "  </tbody>\n",
       "</table>\n",
       "</div>"
      ],
      "text/plain": [
       "            ENERGY\n",
       "count   138.000000\n",
       "mean    219.090435\n",
       "std     483.064973\n",
       "min       0.000000\n",
       "25%      37.475000\n",
       "50%     146.435000\n",
       "75%     346.252500\n",
       "max    5126.000000"
      ]
     },
     "execution_count": 44,
     "metadata": {},
     "output_type": "execute_result"
    }
   ],
   "source": [
    "df.describe()"
   ]
  },
  {
   "cell_type": "markdown",
   "id": "5e4cc8be",
   "metadata": {},
   "source": [
    "# REFORMAT DATE TIME COLUMNS"
   ]
  },
  {
   "cell_type": "code",
   "execution_count": 54,
   "id": "aa7c41c1",
   "metadata": {},
   "outputs": [
    {
     "data": {
      "text/html": [
       "<div>\n",
       "<style scoped>\n",
       "    .dataframe tbody tr th:only-of-type {\n",
       "        vertical-align: middle;\n",
       "    }\n",
       "\n",
       "    .dataframe tbody tr th {\n",
       "        vertical-align: top;\n",
       "    }\n",
       "\n",
       "    .dataframe thead th {\n",
       "        text-align: right;\n",
       "    }\n",
       "</style>\n",
       "<table border=\"1\" class=\"dataframe\">\n",
       "  <thead>\n",
       "    <tr style=\"text-align: right;\">\n",
       "      <th></th>\n",
       "      <th>ENERGY</th>\n",
       "      <th>Year</th>\n",
       "      <th>Date</th>\n",
       "      <th>Time</th>\n",
       "    </tr>\n",
       "    <tr>\n",
       "      <th>DATETIME</th>\n",
       "      <th></th>\n",
       "      <th></th>\n",
       "      <th></th>\n",
       "      <th></th>\n",
       "    </tr>\n",
       "  </thead>\n",
       "  <tbody>\n",
       "    <tr>\n",
       "      <th>2022-04-18 22:09:52+05:30</th>\n",
       "      <td>5126.00</td>\n",
       "      <td>2022</td>\n",
       "      <td>2022-04-18</td>\n",
       "      <td>22:09:52</td>\n",
       "    </tr>\n",
       "    <tr>\n",
       "      <th>2022-04-19 11:24:37+05:30</th>\n",
       "      <td>351.11</td>\n",
       "      <td>2022</td>\n",
       "      <td>2022-04-19</td>\n",
       "      <td>11:24:37</td>\n",
       "    </tr>\n",
       "    <tr>\n",
       "      <th>2022-04-19 11:25:22+05:30</th>\n",
       "      <td>346.79</td>\n",
       "      <td>2022</td>\n",
       "      <td>2022-04-19</td>\n",
       "      <td>11:25:22</td>\n",
       "    </tr>\n",
       "    <tr>\n",
       "      <th>2022-04-19 11:25:38+05:30</th>\n",
       "      <td>345.03</td>\n",
       "      <td>2022</td>\n",
       "      <td>2022-04-19</td>\n",
       "      <td>11:25:38</td>\n",
       "    </tr>\n",
       "    <tr>\n",
       "      <th>2022-04-19 11:25:58+05:30</th>\n",
       "      <td>348.51</td>\n",
       "      <td>2022</td>\n",
       "      <td>2022-04-19</td>\n",
       "      <td>11:25:58</td>\n",
       "    </tr>\n",
       "  </tbody>\n",
       "</table>\n",
       "</div>"
      ],
      "text/plain": [
       "                            ENERGY  Year        Date      Time\n",
       "DATETIME                                                      \n",
       "2022-04-18 22:09:52+05:30  5126.00  2022  2022-04-18  22:09:52\n",
       "2022-04-19 11:24:37+05:30   351.11  2022  2022-04-19  11:24:37\n",
       "2022-04-19 11:25:22+05:30   346.79  2022  2022-04-19  11:25:22\n",
       "2022-04-19 11:25:38+05:30   345.03  2022  2022-04-19  11:25:38\n",
       "2022-04-19 11:25:58+05:30   348.51  2022  2022-04-19  11:25:58"
      ]
     },
     "execution_count": 54,
     "metadata": {},
     "output_type": "execute_result"
    }
   ],
   "source": [
    "dataset = df\n",
    "dataset[\"Date\"] = pd.to_datetime(df[\"DATETIME\"]).dt.date\n",
    "dataset[\"Time\"] = pd.to_datetime(df[\"DATETIME\"]).dt.time\n",
    "\n",
    "dataset = df.set_index(\"DATETIME\")\n",
    "dataset.index = pd.to_datetime(dataset.index)\n",
    "dataset.head(5)"
   ]
  },
  {
   "cell_type": "code",
   "execution_count": 50,
   "id": "3affb62a",
   "metadata": {},
   "outputs": [
    {
     "name": "stderr",
     "output_type": "stream",
     "text": [
      "C:\\Users\\User\\AppData\\Local\\Programs\\Python\\Python310\\lib\\site-packages\\seaborn\\distributions.py:2619: FutureWarning: `distplot` is a deprecated function and will be removed in a future version. Please adapt your code to use either `displot` (a figure-level function with similar flexibility) or `histplot` (an axes-level function for histograms).\n",
      "  warnings.warn(msg, FutureWarning)\n"
     ]
    },
    {
     "data": {
      "text/plain": [
       "Text(0.5, 1.0, 'Ennergy Distribution')"
      ]
     },
     "execution_count": 50,
     "metadata": {},
     "output_type": "execute_result"
    },
    {
     "data": {
      "image/png": "[encoded data removed]",
      "text/plain": [
       "<Figure size 432x288 with 1 Axes>"
      ]
     },
     "metadata": {},
     "output_type": "display_data"
    }
   ],
   "source": [
    "sns.distplot(dataset[\"ENERGY\"])\n",
    "plt.title(\"Ennergy Distribution\")"
   ]
  },
  {
   "cell_type": "code",
   "execution_count": 52,
   "id": "f6a2702b",
   "metadata": {},
   "outputs": [
    {
     "data": {
      "text/plain": [
       "<AxesSubplot:>"
      ]
     },
     "execution_count": 52,
     "metadata": {},
     "output_type": "execute_result"
    },
    {
     "data": {
      "image/png": "[encoded data removed]",
      "text/plain": [
       "<Figure size 432x288 with 1 Axes>"
      ]
     },
     "metadata": {},
     "output_type": "display_data"
    }
   ],
   "source": [
    "df.plot()"
   ]
  },
  {
   "cell_type": "markdown",
   "id": "629dae67",
   "metadata": {},
   "source": [
    "# TRAINING AND TESTING DATA SPLIT"
   ]
  },
  {
   "cell_type": "code",
   "execution_count": 102,
   "id": "4a37eeba",
   "metadata": {},
   "outputs": [],
   "source": [
    "train=df['ENERGY'].iloc[:120]\n",
    "test=df['ENERGY'].iloc[120:]\n",
    "train=np.array(train)\n",
    "test=np.array(test)"
   ]
  },
  {
   "cell_type": "code",
   "execution_count": 110,
   "id": "e42af6e3",
   "metadata": {},
   "outputs": [
    {
     "name": "stdout",
     "output_type": "stream",
     "text": [
      "[5.12600e+03 3.51110e+02 3.46790e+02 3.45030e+02 3.48510e+02 3.45010e+02\n",
      " 3.46660e+02 0.00000e+00 0.00000e+00 0.00000e+00 3.69080e+02 1.14300e+02\n",
      " 3.60840e+02 3.61660e+02 3.62230e+02 3.61040e+02 3.61010e+02 3.59780e+02\n",
      " 3.58170e+02 3.59540e+02 3.58770e+02 3.58680e+02 3.60030e+02 3.57700e+02\n",
      " 3.58220e+02 3.60230e+02 3.59290e+02 3.57890e+02 3.58520e+02 3.60980e+02\n",
      " 3.59890e+02 3.61990e+02 3.59830e+02 3.59460e+02 3.60770e+02 3.61080e+02\n",
      " 3.59070e+02 3.50830e+02 3.52120e+02 1.79970e+02 1.95450e+02 1.29340e+02\n",
      " 1.32193e+03 1.35490e+02 0.00000e+00 1.25000e+01 1.62000e+00 9.05000e+00\n",
      " 2.21627e+03 6.74900e+01 1.62840e+02 1.95500e+02 4.55200e+01 3.16000e+01\n",
      " 3.26000e+01 4.45100e+01 3.25200e+01 3.24600e+01 6.11200e+01 6.27600e+01\n",
      " 3.25200e+01 3.22200e+01 3.25800e+01 3.32000e+01 4.68600e+01 3.30800e+01\n",
      " 4.21400e+01 3.60300e+01 3.44000e+00 3.04300e+01 3.02500e+01 1.15000e+00\n",
      " 3.26000e+01 1.15000e+00 1.70000e+01 1.55900e+01 1.67700e+01 5.36800e+01\n",
      " 1.32630e+02 1.46470e+02 1.61290e+02 1.62400e+02 1.61940e+02 1.61450e+02\n",
      " 1.46560e+02 9.77500e+01 3.81000e+00 1.30950e+02 5.83900e+01 6.51700e+01\n",
      " 1.46400e+02 8.93200e+01 3.18900e+01 1.64100e+01 1.30180e+02 1.30180e+02\n",
      " 1.30620e+02 1.31970e+02 1.45170e+02 1.42250e+02 9.95800e+01 1.41880e+02\n",
      " 1.15000e+00 1.61060e+02 1.62690e+02 1.62610e+02 4.18100e+01 2.57000e+01\n",
      " 1.17060e+02 4.48800e+01 1.30520e+02 1.31000e+01 1.56300e+01 2.29000e+00\n",
      " 1.43200e+01 1.29340e+02 1.31780e+02 1.30180e+02 1.45860e+02 1.49080e+02]\n"
     ]
    }
   ],
   "source": [
    "print(train)\n",
    "train=np.reshape(train,(120,1))"
   ]
  },
  {
   "cell_type": "code",
   "execution_count": 114,
   "id": "0cd4a2d7",
   "metadata": {},
   "outputs": [
    {
     "name": "stdout",
     "output_type": "stream",
     "text": [
      "[[162.23]\n",
      " [161.92]\n",
      " [162.48]\n",
      " [162.69]\n",
      " [162.77]\n",
      " [166.36]\n",
      " [174.98]\n",
      " [163.  ]\n",
      " [162.8 ]\n",
      " [162.94]\n",
      " [167.18]\n",
      " [171.5 ]\n",
      " [175.  ]\n",
      " [171.08]\n",
      " [176.42]\n",
      " [176.73]\n",
      " [178.67]\n",
      " [178.67]]\n"
     ]
    }
   ],
   "source": [
    "\n",
    "test=np.reshape(test,(len(test),1))\n",
    "print(test)"
   ]
  },
  {
   "cell_type": "code",
   "execution_count": 121,
   "id": "1a026ad3",
   "metadata": {},
   "outputs": [],
   "source": [
    "from sklearn.preprocessing import MinMaxScaler\n",
    "sc=MinMaxScaler()\n",
    "train_scaled=sc.fit_transform(train)\n",
    "test_scaled=sc.fit_transform(test)"
   ]
  },
  {
   "cell_type": "code",
   "execution_count": 123,
   "id": "b7639c31",
   "metadata": {},
   "outputs": [
    {
     "name": "stdout",
     "output_type": "stream",
     "text": [
      "[[1.00000000e+00]\n",
      " [6.84959032e-02]\n",
      " [6.76531409e-02]\n",
      " [6.73097932e-02]\n",
      " [6.79886851e-02]\n",
      " [6.73058915e-02]\n",
      " [6.76277799e-02]\n",
      " [0.00000000e+00]\n",
      " [0.00000000e+00]\n",
      " [0.00000000e+00]\n",
      " [7.20015607e-02]\n",
      " [2.22980882e-02]\n",
      " [7.03940694e-02]\n",
      " [7.05540382e-02]\n",
      " [7.06652361e-02]\n",
      " [7.04330862e-02]\n",
      " [7.04272337e-02]\n",
      " [7.01872805e-02]\n",
      " [6.98731955e-02]\n",
      " [7.01404604e-02]\n",
      " [6.99902458e-02]\n",
      " [6.99726883e-02]\n",
      " [7.02360515e-02]\n",
      " [6.97815060e-02]\n",
      " [6.98829497e-02]\n",
      " [7.02750683e-02]\n",
      " [7.00916894e-02]\n",
      " [6.98185720e-02]\n",
      " [6.99414748e-02]\n",
      " [7.04213812e-02]\n",
      " [7.02087398e-02]\n",
      " [7.06184159e-02]\n",
      " [7.01970347e-02]\n",
      " [7.01248537e-02]\n",
      " [7.03804136e-02]\n",
      " [7.04408896e-02]\n",
      " [7.00487710e-02]\n",
      " [6.84412798e-02]\n",
      " [6.86929380e-02]\n",
      " [3.51092470e-02]\n",
      " [3.81291455e-02]\n",
      " [2.52321498e-02]\n",
      " [2.57887242e-01]\n",
      " [2.64319157e-02]\n",
      " [0.00000000e+00]\n",
      " [2.43854858e-03]\n",
      " [3.16035895e-04]\n",
      " [1.76550917e-03]\n",
      " [4.32358564e-01]\n",
      " [1.31662115e-02]\n",
      " [3.17674600e-02]\n",
      " [3.81388997e-02]\n",
      " [8.88021849e-03]\n",
      " [6.16465080e-03]\n",
      " [6.35973469e-03]\n",
      " [8.68318377e-03]\n",
      " [6.34412798e-03]\n",
      " [6.33242294e-03]\n",
      " [1.19235271e-02]\n",
      " [1.22434647e-02]\n",
      " [6.34412798e-03]\n",
      " [6.28560281e-03]\n",
      " [6.35583301e-03]\n",
      " [6.47678502e-03]\n",
      " [9.14163090e-03]\n",
      " [6.45337495e-03]\n",
      " [8.22083496e-03]\n",
      " [7.02887242e-03]\n",
      " [6.71088568e-04]\n",
      " [5.93640265e-03]\n",
      " [5.90128755e-03]\n",
      " [2.24346469e-04]\n",
      " [6.35973469e-03]\n",
      " [2.24346469e-04]\n",
      " [3.31642606e-03]\n",
      " [3.04135778e-03]\n",
      " [3.27155677e-03]\n",
      " [1.04721030e-02]\n",
      " [2.58739758e-02]\n",
      " [2.85739368e-02]\n",
      " [3.14650800e-02]\n",
      " [3.16816231e-02]\n",
      " [3.15918845e-02]\n",
      " [3.14962934e-02]\n",
      " [2.85914943e-02]\n",
      " [1.90694499e-02]\n",
      " [7.43269606e-04]\n",
      " [2.55462349e-02]\n",
      " [1.13909481e-02]\n",
      " [1.27136169e-02]\n",
      " [2.85602809e-02]\n",
      " [1.74248927e-02]\n",
      " [6.22122513e-03]\n",
      " [3.20132657e-03]\n",
      " [2.53960203e-02]\n",
      " [2.53960203e-02]\n",
      " [2.54818572e-02]\n",
      " [2.57452204e-02]\n",
      " [2.83203277e-02]\n",
      " [2.77506828e-02]\n",
      " [1.94264534e-02]\n",
      " [2.76785018e-02]\n",
      " [2.24346469e-04]\n",
      " [3.14202107e-02]\n",
      " [3.17381974e-02]\n",
      " [3.17225907e-02]\n",
      " [8.15645728e-03]\n",
      " [5.01365587e-03]\n",
      " [2.28365197e-02]\n",
      " [8.75536481e-03]\n",
      " [2.54623488e-02]\n",
      " [2.55559891e-03]\n",
      " [3.04916114e-03]\n",
      " [4.46742099e-04]\n",
      " [2.79360125e-03]\n",
      " [2.52321498e-02]\n",
      " [2.57081545e-02]\n",
      " [2.53960203e-02]\n",
      " [2.84549356e-02]\n",
      " [2.90831057e-02]]\n"
     ]
    }
   ],
   "source": [
    "print(train_scaled)"
   ]
  },
  {
   "cell_type": "code",
   "execution_count": 124,
   "id": "698d4b01",
   "metadata": {},
   "outputs": [
    {
     "name": "stdout",
     "output_type": "stream",
     "text": [
      "[[0.01850746]\n",
      " [0.        ]\n",
      " [0.03343284]\n",
      " [0.04597015]\n",
      " [0.05074627]\n",
      " [0.26507463]\n",
      " [0.77970149]\n",
      " [0.06447761]\n",
      " [0.05253731]\n",
      " [0.06089552]\n",
      " [0.31402985]\n",
      " [0.5719403 ]\n",
      " [0.78089552]\n",
      " [0.54686567]\n",
      " [0.86567164]\n",
      " [0.8841791 ]\n",
      " [1.        ]\n",
      " [1.        ]]\n"
     ]
    }
   ],
   "source": [
    "print(test_scaled)"
   ]
  },
  {
   "cell_type": "code",
   "execution_count": 125,
   "id": "8c28b65e",
   "metadata": {},
   "outputs": [
    {
     "name": "stdout",
     "output_type": "stream",
     "text": [
      "train shape: (120, 1)\n",
      "test shape: (18, 1)\n"
     ]
    }
   ],
   "source": [
    "print(\"train shape: {}\".format(train.shape))\n",
    "print(\"test shape: {}\".format(test.shape))"
   ]
  },
  {
   "cell_type": "markdown",
   "id": "3b10e205",
   "metadata": {},
   "source": [
    "# TRAINING LSTM MODEL"
   ]
  },
  {
   "cell_type": "code",
   "execution_count": 129,
   "id": "243383e7",
   "metadata": {},
   "outputs": [],
   "source": [
    "from keras.preprocessing.sequence import TimeseriesGenerator"
   ]
  },
  {
   "cell_type": "code",
   "execution_count": 134,
   "id": "d1226c63",
   "metadata": {},
   "outputs": [],
   "source": [
    "n_input = 1\n",
    "n_features=1\n",
    "generator = TimeseriesGenerator(train_scaled, train_scaled, length=n_input, batch_size=1)"
   ]
  },
  {
   "cell_type": "code",
   "execution_count": 132,
   "id": "b7a44c97",
   "metadata": {},
   "outputs": [],
   "source": [
    "from keras.models import Sequential\n",
    "from keras.layers import Dense\n",
    "from keras.layers import LSTM"
   ]
  },
  {
   "cell_type": "code",
   "execution_count": 136,
   "id": "eb639067",
   "metadata": {},
   "outputs": [],
   "source": [
    "# define model\n",
    "model = Sequential()\n",
    "model.add(LSTM(100, activation='relu', input_shape=(n_input, n_features)))\n",
    "model.add(Dense(1))\n",
    "model.compile(optimizer='adam', loss='mse')"
   ]
  },
  {
   "cell_type": "code",
   "execution_count": 138,
   "id": "b1e25126",
   "metadata": {},
   "outputs": [
    {
     "name": "stdout",
     "output_type": "stream",
     "text": [
      "Model: \"sequential_2\"\n",
      "_________________________________________________________________\n",
      " Layer (type)                Output Shape              Param #   \n",
      "=================================================================\n",
      " lstm_1 (LSTM)               (None, 100)               40800     \n",
      "                                                                 \n",
      " dense_1 (Dense)             (None, 1)                 101       \n",
      "                                                                 \n",
      "=================================================================\n",
      "Total params: 40,901\n",
      "Trainable params: 40,901\n",
      "Non-trainable params: 0\n",
      "_________________________________________________________________\n"
     ]
    }
   ],
   "source": [
    "model.summary()\n"
   ]
  },
  {
   "cell_type": "code",
   "execution_count": 140,
   "id": "d4f88e6e",
   "metadata": {},
   "outputs": [
    {
     "name": "stdout",
     "output_type": "stream",
     "text": [
      "Epoch 1/50\n",
      "119/119 [==============================] - 0s 3ms/step - loss: 0.0023\n",
      "Epoch 2/50\n",
      "119/119 [==============================] - 0s 3ms/step - loss: 0.0023\n",
      "Epoch 3/50\n",
      "119/119 [==============================] - 0s 3ms/step - loss: 0.0022\n",
      "Epoch 4/50\n",
      "119/119 [==============================] - 0s 4ms/step - loss: 0.0023\n",
      "Epoch 5/50\n",
      "119/119 [==============================] - 0s 3ms/step - loss: 0.0022\n",
      "Epoch 6/50\n",
      "119/119 [==============================] - 0s 3ms/step - loss: 0.0023\n",
      "Epoch 7/50\n",
      "119/119 [==============================] - 0s 3ms/step - loss: 0.0023\n",
      "Epoch 8/50\n",
      "119/119 [==============================] - 1s 4ms/step - loss: 0.0022\n",
      "Epoch 9/50\n",
      "119/119 [==============================] - 0s 2ms/step - loss: 0.0022\n",
      "Epoch 10/50\n",
      "119/119 [==============================] - 0s 4ms/step - loss: 0.0023\n",
      "Epoch 11/50\n",
      "119/119 [==============================] - 0s 3ms/step - loss: 0.0022\n",
      "Epoch 12/50\n",
      "119/119 [==============================] - 0s 3ms/step - loss: 0.0022\n",
      "Epoch 13/50\n",
      "119/119 [==============================] - 0s 3ms/step - loss: 0.0022\n",
      "Epoch 14/50\n",
      "119/119 [==============================] - 0s 3ms/step - loss: 0.0022\n",
      "Epoch 15/50\n",
      "119/119 [==============================] - 0s 3ms/step - loss: 0.0023\n",
      "Epoch 16/50\n",
      "119/119 [==============================] - 0s 3ms/step - loss: 0.0022\n",
      "Epoch 17/50\n",
      "119/119 [==============================] - 0s 3ms/step - loss: 0.0022\n",
      "Epoch 18/50\n",
      "119/119 [==============================] - 1s 4ms/step - loss: 0.0022\n",
      "Epoch 19/50\n",
      "119/119 [==============================] - 1s 4ms/step - loss: 0.0023\n",
      "Epoch 20/50\n",
      "119/119 [==============================] - 0s 4ms/step - loss: 0.0022\n",
      "Epoch 21/50\n",
      "119/119 [==============================] - 0s 3ms/step - loss: 0.0023\n",
      "Epoch 22/50\n",
      "119/119 [==============================] - 0s 3ms/step - loss: 0.0022\n",
      "Epoch 23/50\n",
      "119/119 [==============================] - 0s 3ms/step - loss: 0.0022\n",
      "Epoch 24/50\n",
      "119/119 [==============================] - 0s 3ms/step - loss: 0.0023\n",
      "Epoch 25/50\n",
      "119/119 [==============================] - 0s 3ms/step - loss: 0.0022\n",
      "Epoch 26/50\n",
      "119/119 [==============================] - 0s 3ms/step - loss: 0.0022\n",
      "Epoch 27/50\n",
      "119/119 [==============================] - 1s 4ms/step - loss: 0.0023\n",
      "Epoch 28/50\n",
      "119/119 [==============================] - 1s 4ms/step - loss: 0.0022\n",
      "Epoch 29/50\n",
      "119/119 [==============================] - 0s 3ms/step - loss: 0.0022\n",
      "Epoch 30/50\n",
      "119/119 [==============================] - 0s 3ms/step - loss: 0.0022\n",
      "Epoch 31/50\n",
      "119/119 [==============================] - 1s 4ms/step - loss: 0.0022\n",
      "Epoch 32/50\n",
      "119/119 [==============================] - 1s 4ms/step - loss: 0.0022\n",
      "Epoch 33/50\n",
      "119/119 [==============================] - 1s 7ms/step - loss: 0.0023\n",
      "Epoch 34/50\n",
      "119/119 [==============================] - 0s 3ms/step - loss: 0.0023\n",
      "Epoch 35/50\n",
      "119/119 [==============================] - 0s 4ms/step - loss: 0.0022\n",
      "Epoch 36/50\n",
      "119/119 [==============================] - 0s 3ms/step - loss: 0.0022\n",
      "Epoch 37/50\n",
      "119/119 [==============================] - 0s 3ms/step - loss: 0.0022\n",
      "Epoch 38/50\n",
      "119/119 [==============================] - 0s 4ms/step - loss: 0.0022\n",
      "Epoch 39/50\n",
      "119/119 [==============================] - 1s 6ms/step - loss: 0.0022\n",
      "Epoch 40/50\n",
      "119/119 [==============================] - 1s 5ms/step - loss: 0.0022\n",
      "Epoch 41/50\n",
      "119/119 [==============================] - 1s 4ms/step - loss: 0.0022\n",
      "Epoch 42/50\n",
      "119/119 [==============================] - 0s 4ms/step - loss: 0.0022\n",
      "Epoch 43/50\n",
      "119/119 [==============================] - 0s 3ms/step - loss: 0.0022\n",
      "Epoch 44/50\n",
      "119/119 [==============================] - 0s 4ms/step - loss: 0.0022\n",
      "Epoch 45/50\n",
      "119/119 [==============================] - 0s 3ms/step - loss: 0.0022\n",
      "Epoch 46/50\n",
      "119/119 [==============================] - 0s 2ms/step - loss: 0.0023\n",
      "Epoch 47/50\n",
      "119/119 [==============================] - 0s 3ms/step - loss: 0.0023\n",
      "Epoch 48/50\n",
      "119/119 [==============================] - 0s 3ms/step - loss: 0.0022\n",
      "Epoch 49/50\n",
      "119/119 [==============================] - 0s 3ms/step - loss: 0.0022\n",
      "Epoch 50/50\n",
      "119/119 [==============================] - 1s 4ms/step - loss: 0.0023\n"
     ]
    },
    {
     "data": {
      "text/plain": [
       "<keras.callbacks.History at 0x1dd2bae5090>"
      ]
     },
     "execution_count": 140,
     "metadata": {},
     "output_type": "execute_result"
    }
   ],
   "source": [
    "# fit model\n",
    "model.fit(generator,epochs=50)"
   ]
  },
  {
   "cell_type": "code",
   "execution_count": 142,
   "id": "9e3a0a33",
   "metadata": {},
   "outputs": [
    {
     "data": {
      "text/plain": [
       "[<matplotlib.lines.Line2D at 0x1dd2deda110>]"
      ]
     },
     "execution_count": 142,
     "metadata": {},
     "output_type": "execute_result"
    },
    {
     "data": {
      "image/png": "[encoded data removed]",
      "text/plain": [
       "<Figure size 432x288 with 1 Axes>"
      ]
     },
     "metadata": {},
     "output_type": "display_data"
    }
   ],
   "source": [
    "loss_per_epoch = model.history.history['loss']\n",
    "plt.plot(range(len(loss_per_epoch)),loss_per_epoch)"
   ]
  },
  {
   "cell_type": "code",
   "execution_count": 143,
   "id": "0fe88da6",
   "metadata": {},
   "outputs": [],
   "source": [
    "test_batch=np.reshape(test_scaled[0],(1,n_input,n_features))"
   ]
  },
  {
   "cell_type": "markdown",
   "id": "db3eebbd",
   "metadata": {},
   "source": [
    "# MAKING PREDICTIONS"
   ]
  },
  {
   "cell_type": "code",
   "execution_count": 145,
   "id": "c3b82172",
   "metadata": {},
   "outputs": [
    {
     "data": {
      "text/plain": [
       "array([[0.03763375]], dtype=float32)"
      ]
     },
     "execution_count": 145,
     "metadata": {},
     "output_type": "execute_result"
    }
   ],
   "source": [
    "model.predict(test_batch)"
   ]
  },
  {
   "cell_type": "code",
   "execution_count": 147,
   "id": "d42b10a2",
   "metadata": {},
   "outputs": [
    {
     "data": {
      "text/plain": [
       "array([0.01850746])"
      ]
     },
     "execution_count": 147,
     "metadata": {},
     "output_type": "execute_result"
    }
   ],
   "source": [
    "test_scaled[0]"
   ]
  },
  {
   "cell_type": "code",
   "execution_count": 149,
   "id": "e047597c",
   "metadata": {},
   "outputs": [],
   "source": [
    "test_predictions = []\n",
    "\n",
    "first_eval_batch = train_scaled[-n_input:]\n",
    "current_batch = first_eval_batch.reshape((1, n_input, n_features))\n",
    "\n",
    "for i in range(len(test)):\n",
    "    \n",
    "    # get the prediction value for the first batch\n",
    "    current_pred = model.predict(current_batch)[0]\n",
    "    \n",
    "    # append the prediction into the array\n",
    "    test_predictions.append(current_pred) \n",
    "    \n",
    "    # use the prediction to update the batch and remove the first value\n",
    "    current_batch = np.append(current_batch[:,1:,:],[[current_pred]],axis=1)"
   ]
  },
  {
   "cell_type": "code",
   "execution_count": 151,
   "id": "3bc8d7be",
   "metadata": {},
   "outputs": [
    {
     "name": "stdout",
     "output_type": "stream",
     "text": [
      "[array([0.04401977], dtype=float32), array([0.0530602], dtype=float32), array([0.0585439], dtype=float32), array([0.0618746], dtype=float32), array([0.06389922], dtype=float32), array([0.06513051], dtype=float32), array([0.06587955], dtype=float32), array([0.06633532], dtype=float32), array([0.06661266], dtype=float32), array([0.06678144], dtype=float32), array([0.06688415], dtype=float32), array([0.06694667], dtype=float32), array([0.06698471], dtype=float32), array([0.06700787], dtype=float32), array([0.06702197], dtype=float32), array([0.06703053], dtype=float32), array([0.06703575], dtype=float32), array([0.06703893], dtype=float32)]\n"
     ]
    }
   ],
   "source": [
    "print(test_predictions)"
   ]
  },
  {
   "cell_type": "code",
   "execution_count": 153,
   "id": "6ce3df7d",
   "metadata": {},
   "outputs": [],
   "source": [
    "true_predictions = sc.inverse_transform(test_predictions)"
   ]
  },
  {
   "cell_type": "code",
   "execution_count": 154,
   "id": "62302cdd",
   "metadata": {},
   "outputs": [
    {
     "name": "stderr",
     "output_type": "stream",
     "text": [
      "C:\\Users\\User\\AppData\\Local\\Temp\\ipykernel_8424\\3095854463.py:2: SettingWithCopyWarning: \n",
      "A value is trying to be set on a copy of a slice from a DataFrame.\n",
      "Try using .loc[row_indexer,col_indexer] = value instead\n",
      "\n",
      "See the caveats in the documentation: https://pandas.pydata.org/pandas-docs/stable/user_guide/indexing.html#returning-a-view-versus-a-copy\n",
      "  test['Predictions'] = true_predictions\n"
     ]
    }
   ],
   "source": [
    "test=df.iloc[120:]\n",
    "test['Predictions'] = true_predictions"
   ]
  },
  {
   "cell_type": "code",
   "execution_count": 158,
   "id": "0a8d6ae9",
   "metadata": {},
   "outputs": [
    {
     "data": {
      "text/html": [
       "<div>\n",
       "<style scoped>\n",
       "    .dataframe tbody tr th:only-of-type {\n",
       "        vertical-align: middle;\n",
       "    }\n",
       "\n",
       "    .dataframe tbody tr th {\n",
       "        vertical-align: top;\n",
       "    }\n",
       "\n",
       "    .dataframe thead th {\n",
       "        text-align: right;\n",
       "    }\n",
       "</style>\n",
       "<table border=\"1\" class=\"dataframe\">\n",
       "  <thead>\n",
       "    <tr style=\"text-align: right;\">\n",
       "      <th></th>\n",
       "      <th>DATETIME</th>\n",
       "      <th>ENERGY</th>\n",
       "      <th>Year</th>\n",
       "      <th>Date</th>\n",
       "      <th>Time</th>\n",
       "      <th>Predictions</th>\n",
       "    </tr>\n",
       "  </thead>\n",
       "  <tbody>\n",
       "    <tr>\n",
       "      <th>120</th>\n",
       "      <td>2022-04-28T17:58:00+05:30</td>\n",
       "      <td>162.23</td>\n",
       "      <td>2022</td>\n",
       "      <td>2022-04-28</td>\n",
       "      <td>17:58:00</td>\n",
       "      <td>162.657331</td>\n",
       "    </tr>\n",
       "    <tr>\n",
       "      <th>121</th>\n",
       "      <td>2022-04-28T17:58:15+05:30</td>\n",
       "      <td>161.92</td>\n",
       "      <td>2022</td>\n",
       "      <td>2022-04-28</td>\n",
       "      <td>17:58:15</td>\n",
       "      <td>162.808758</td>\n",
       "    </tr>\n",
       "    <tr>\n",
       "      <th>122</th>\n",
       "      <td>2022-04-28T17:58:41+05:30</td>\n",
       "      <td>162.48</td>\n",
       "      <td>2022</td>\n",
       "      <td>2022-04-28</td>\n",
       "      <td>17:58:41</td>\n",
       "      <td>162.900610</td>\n",
       "    </tr>\n",
       "    <tr>\n",
       "      <th>123</th>\n",
       "      <td>2022-04-28T17:58:56+05:30</td>\n",
       "      <td>162.69</td>\n",
       "      <td>2022</td>\n",
       "      <td>2022-04-28</td>\n",
       "      <td>17:58:56</td>\n",
       "      <td>162.956400</td>\n",
       "    </tr>\n",
       "    <tr>\n",
       "      <th>124</th>\n",
       "      <td>2022-04-28T17:59:12+05:30</td>\n",
       "      <td>162.77</td>\n",
       "      <td>2022</td>\n",
       "      <td>2022-04-28</td>\n",
       "      <td>17:59:12</td>\n",
       "      <td>162.990312</td>\n",
       "    </tr>\n",
       "    <tr>\n",
       "      <th>125</th>\n",
       "      <td>2022-04-28T17:59:29+05:30</td>\n",
       "      <td>166.36</td>\n",
       "      <td>2022</td>\n",
       "      <td>2022-04-28</td>\n",
       "      <td>17:59:29</td>\n",
       "      <td>163.010936</td>\n",
       "    </tr>\n",
       "    <tr>\n",
       "      <th>126</th>\n",
       "      <td>2022-04-28T17:59:44+05:30</td>\n",
       "      <td>174.98</td>\n",
       "      <td>2022</td>\n",
       "      <td>2022-04-28</td>\n",
       "      <td>17:59:44</td>\n",
       "      <td>163.023483</td>\n",
       "    </tr>\n",
       "    <tr>\n",
       "      <th>127</th>\n",
       "      <td>2022-04-28T18:00:01+05:30</td>\n",
       "      <td>163.00</td>\n",
       "      <td>2022</td>\n",
       "      <td>2022-04-28</td>\n",
       "      <td>18:00:01</td>\n",
       "      <td>163.031117</td>\n",
       "    </tr>\n",
       "  </tbody>\n",
       "</table>\n",
       "</div>"
      ],
      "text/plain": [
       "                      DATETIME  ENERGY  Year        Date      Time  \\\n",
       "120  2022-04-28T17:58:00+05:30  162.23  2022  2022-04-28  17:58:00   \n",
       "121  2022-04-28T17:58:15+05:30  161.92  2022  2022-04-28  17:58:15   \n",
       "122  2022-04-28T17:58:41+05:30  162.48  2022  2022-04-28  17:58:41   \n",
       "123  2022-04-28T17:58:56+05:30  162.69  2022  2022-04-28  17:58:56   \n",
       "124  2022-04-28T17:59:12+05:30  162.77  2022  2022-04-28  17:59:12   \n",
       "125  2022-04-28T17:59:29+05:30  166.36  2022  2022-04-28  17:59:29   \n",
       "126  2022-04-28T17:59:44+05:30  174.98  2022  2022-04-28  17:59:44   \n",
       "127  2022-04-28T18:00:01+05:30  163.00  2022  2022-04-28  18:00:01   \n",
       "\n",
       "     Predictions  \n",
       "120   162.657331  \n",
       "121   162.808758  \n",
       "122   162.900610  \n",
       "123   162.956400  \n",
       "124   162.990312  \n",
       "125   163.010936  \n",
       "126   163.023483  \n",
       "127   163.031117  "
      ]
     },
     "execution_count": 158,
     "metadata": {},
     "output_type": "execute_result"
    }
   ],
   "source": [
    "test.head(8)"
   ]
  },
  {
   "cell_type": "markdown",
   "id": "93d1297c",
   "metadata": {},
   "source": [
    "# SENDING THE PREDICTED VALUES TO THINGSPEAK"
   ]
  },
  {
   "cell_type": "code",
   "execution_count": null,
   "id": "66bc1864",
   "metadata": {},
   "outputs": [],
   "source": [
    "\n",
    "def sendDataToServer(c):\n",
    "    a=ul.request.urlopen(\"https://api.thingspeak.com/update?api_key=Y979M1TXKR2ZBOU4&field5\"+str(c))\n",
    "\n",
    "import time\n",
    "import random\n",
    "next_time = time.time()\n",
    "while True:\n",
    "    # Read data\n",
    "    b=ul.request.urlopen(\"https://api.thingspeak.com/channels/1706461/fields/5.json?results=1\")\n",
    "    a=np.reshape(test_scaled[0],(1,n_input,n_features))\n",
    "    c=sc.inverse_transform(model.predict(a))\n",
    "    time.sleep(0.1)\n",
    "    # Send data\n",
    "    \n",
    "    sendDataToServer(c)\n",
    "\n",
    "    "
   ]
  }
 ],
 "metadata": {
  "kernelspec": {
   "display_name": "Python 3 (ipykernel)",
   "language": "python",
   "name": "python3"
  },
  "language_info": {
   "codemirror_mode": {
    "name": "ipython",
    "version": 3
   },
   "file_extension": ".py",
   "mimetype": "text/x-python",
   "name": "python",
   "nbconvert_exporter": "python",
   "pygments_lexer": "ipython3",
   "version": "3.10.2"
  }
 },
 "nbformat": 4,
 "nbformat_minor": 5
}
